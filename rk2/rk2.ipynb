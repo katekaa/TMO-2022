{
  "nbformat": 4,
  "nbformat_minor": 0,
  "metadata": {
    "colab": {
      "name": "rk2.ipynb",
      "provenance": []
    },
    "kernelspec": {
      "name": "python3",
      "display_name": "Python 3"
    },
    "language_info": {
      "name": "python"
    }
  },
  "cells": [
    {
      "cell_type": "markdown",
      "source": [
        "Честнова Екатерина ИУ5-62Б\n"
      ],
      "metadata": {
        "id": "uGP4c-HslSwx"
      }
    },
    {
      "cell_type": "markdown",
      "source": [
        "Рк 2 Вариант 20"
      ],
      "metadata": {
        "id": "V95orwwulWlF"
      }
    },
    {
      "cell_type": "markdown",
      "source": [
        "Задание. Для заданного набора данных (по Вашему варианту) постройте модели классификации или регрессии (в зависимости от конкретной задачи, рассматриваемой в наборе данных). Для построения моделей используйте методы: Метод опорных векторов,\tСлучайный лес. Оцените качество моделей на основе подходящих метрик качества (не менее двух метрик). Какие метрики качества Вы использовали и почему? Какие выводы Вы можете сделать о качестве построенных моделей? Для построения моделей необходимо выполнить требуемую предобработку данных: заполнение пропусков, кодирование категориальных признаков, и т.д."
      ],
      "metadata": {
        "id": "UVX7W_39le0m"
      }
    },
    {
      "cell_type": "code",
      "execution_count": 1,
      "metadata": {
        "colab": {
          "resources": {
            "http://localhost:8080/nbextensions/google.colab/files.js": {
              "data": "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",
              "ok": true,
              "headers": [
                [
                  "content-type",
                  "application/javascript"
                ]
              ],
              "status": 200,
              "status_text": ""
            }
          },
          "base_uri": "https://localhost:8080/",
          "height": 73
        },
        "id": "vXoAPQ_jk8in",
        "outputId": "cfd866d2-4b0d-405f-b718-3a92e6caa3b7"
      },
      "outputs": [
        {
          "output_type": "display_data",
          "data": {
            "text/plain": [
              "<IPython.core.display.HTML object>"
            ],
            "text/html": [
              "\n",
              "     <input type=\"file\" id=\"files-33c7a676-82b9-4e79-bd8b-3c8497115426\" name=\"files[]\" multiple disabled\n",
              "        style=\"border:none\" />\n",
              "     <output id=\"result-33c7a676-82b9-4e79-bd8b-3c8497115426\">\n",
              "      Upload widget is only available when the cell has been executed in the\n",
              "      current browser session. Please rerun this cell to enable.\n",
              "      </output>\n",
              "      <script src=\"/nbextensions/google.colab/files.js\"></script> "
            ]
          },
          "metadata": {}
        },
        {
          "output_type": "stream",
          "name": "stdout",
          "text": [
            "Saving impeachment-polls.csv to impeachment-polls.csv\n"
          ]
        }
      ],
      "source": [
        "from google.colab import files\n",
        "uploaded = files.upload()"
      ]
    },
    {
      "cell_type": "code",
      "source": [
        "import numpy as np\n",
        "import pandas as pd\n",
        "import seaborn as sns\n",
        "import matplotlib.pyplot as plt\n",
        "from sklearn.metrics import plot_confusion_matrix\n",
        "from sklearn.model_selection import train_test_split,  GridSearchCV\n",
        "from sklearn.metrics import precision_score, recall_score, f1_score, classification_report\n",
        "from sklearn.metrics import confusion_matrix\n",
        "from sklearn.svm import SVC\n",
        "from sklearn.ensemble import RandomForestClassifier"
      ],
      "metadata": {
        "id": "TQylgQYlm-mb"
      },
      "execution_count": 78,
      "outputs": []
    },
    {
      "cell_type": "code",
      "source": [
        "df = pd.read_csv('./impeachment-polls.csv', sep=',')"
      ],
      "metadata": {
        "id": "gxO0GNBkm_lG"
      },
      "execution_count": 4,
      "outputs": []
    },
    {
      "cell_type": "code",
      "source": [
        "df.head()"
      ],
      "metadata": {
        "colab": {
          "base_uri": "https://localhost:8080/",
          "height": 577
        },
        "id": "5RAvJluCnPvm",
        "outputId": "cf49fd4e-ae3d-40d0-b559-fa324c2667be"
      },
      "execution_count": 5,
      "outputs": [
        {
          "output_type": "execute_result",
          "data": {
            "text/plain": [
              "       Start        End                  Pollster Sponsor  SampleSize Pop  \\\n",
              "0  6/28/2019   7/1/2019  ABC News/Washington Post     NaN        1008   a   \n",
              "1  4/22/2019  4/25/2019  ABC News/Washington Post     NaN        1001   a   \n",
              "2  1/21/2019  1/24/2019  ABC News/Washington Post     NaN        1001   a   \n",
              "3  8/26/2018  8/29/2018  ABC News/Washington Post     NaN        1003   a   \n",
              "4   6/8/2019  6/12/2019                    Civiqs     NaN        1559  rv   \n",
              "\n",
              "  tracking                                               Text  \\\n",
              "0      NaN  Based on what you know, do you think Congress ...   \n",
              "1      NaN  Based on what you know, do you think Congress ...   \n",
              "2      NaN  Based on what you know, do you think Congress ...   \n",
              "3      NaN  Based on what you know, do you think Congress ...   \n",
              "4      NaN  Do you think the House of Representatives shou...   \n",
              "\n",
              "            Category Include?  ...  Rep Yes  Rep No  Dem Sample  Dem Yes  \\\n",
              "0  begin_proceedings      yes  ...      7.0    87.0       292.0     61.0   \n",
              "1  begin_proceedings      yes  ...     10.0    87.0       290.0     62.0   \n",
              "2  begin_proceedings      yes  ...      7.0    90.0       320.0     64.0   \n",
              "3  begin_proceedings      yes  ...     15.0    82.0       331.0     75.0   \n",
              "4      begin_inquiry      yes  ...      5.0    93.0       577.0     77.0   \n",
              "\n",
              "   Dem No  Ind Sample  Ind Yes  Ind No  \\\n",
              "0    36.0       373.0     37.0    59.0   \n",
              "1    29.0       360.0     36.0    59.0   \n",
              "2    30.0       370.0     42.0    53.0   \n",
              "3    21.0       371.0     49.0    46.0   \n",
              "4    15.0       499.0     41.0    53.0   \n",
              "\n",
              "                                                 URL  Notes  \n",
              "0  https://games-cdn.washingtonpost.com/notes/pro...    NaN  \n",
              "1  https://games-cdn.washingtonpost.com/notes/pro...    NaN  \n",
              "2  langerresearch.com/wp-content/uploads/1204a2Tr...    NaN  \n",
              "3  https://www.langerresearch.com/wp-content/uplo...    NaN  \n",
              "4  https://civiqs.com/documents/Civiqs_DailyKos_m...    NaN  \n",
              "\n",
              "[5 rows x 24 columns]"
            ],
            "text/html": [
              "\n",
              "  <div id=\"df-3b195e87-c99f-4ac3-80b3-ac4258728586\">\n",
              "    <div class=\"colab-df-container\">\n",
              "      <div>\n",
              "<style scoped>\n",
              "    .dataframe tbody tr th:only-of-type {\n",
              "        vertical-align: middle;\n",
              "    }\n",
              "\n",
              "    .dataframe tbody tr th {\n",
              "        vertical-align: top;\n",
              "    }\n",
              "\n",
              "    .dataframe thead th {\n",
              "        text-align: right;\n",
              "    }\n",
              "</style>\n",
              "<table border=\"1\" class=\"dataframe\">\n",
              "  <thead>\n",
              "    <tr style=\"text-align: right;\">\n",
              "      <th></th>\n",
              "      <th>Start</th>\n",
              "      <th>End</th>\n",
              "      <th>Pollster</th>\n",
              "      <th>Sponsor</th>\n",
              "      <th>SampleSize</th>\n",
              "      <th>Pop</th>\n",
              "      <th>tracking</th>\n",
              "      <th>Text</th>\n",
              "      <th>Category</th>\n",
              "      <th>Include?</th>\n",
              "      <th>...</th>\n",
              "      <th>Rep Yes</th>\n",
              "      <th>Rep No</th>\n",
              "      <th>Dem Sample</th>\n",
              "      <th>Dem Yes</th>\n",
              "      <th>Dem No</th>\n",
              "      <th>Ind Sample</th>\n",
              "      <th>Ind Yes</th>\n",
              "      <th>Ind No</th>\n",
              "      <th>URL</th>\n",
              "      <th>Notes</th>\n",
              "    </tr>\n",
              "  </thead>\n",
              "  <tbody>\n",
              "    <tr>\n",
              "      <th>0</th>\n",
              "      <td>6/28/2019</td>\n",
              "      <td>7/1/2019</td>\n",
              "      <td>ABC News/Washington Post</td>\n",
              "      <td>NaN</td>\n",
              "      <td>1008</td>\n",
              "      <td>a</td>\n",
              "      <td>NaN</td>\n",
              "      <td>Based on what you know, do you think Congress ...</td>\n",
              "      <td>begin_proceedings</td>\n",
              "      <td>yes</td>\n",
              "      <td>...</td>\n",
              "      <td>7.0</td>\n",
              "      <td>87.0</td>\n",
              "      <td>292.0</td>\n",
              "      <td>61.0</td>\n",
              "      <td>36.0</td>\n",
              "      <td>373.0</td>\n",
              "      <td>37.0</td>\n",
              "      <td>59.0</td>\n",
              "      <td>https://games-cdn.washingtonpost.com/notes/pro...</td>\n",
              "      <td>NaN</td>\n",
              "    </tr>\n",
              "    <tr>\n",
              "      <th>1</th>\n",
              "      <td>4/22/2019</td>\n",
              "      <td>4/25/2019</td>\n",
              "      <td>ABC News/Washington Post</td>\n",
              "      <td>NaN</td>\n",
              "      <td>1001</td>\n",
              "      <td>a</td>\n",
              "      <td>NaN</td>\n",
              "      <td>Based on what you know, do you think Congress ...</td>\n",
              "      <td>begin_proceedings</td>\n",
              "      <td>yes</td>\n",
              "      <td>...</td>\n",
              "      <td>10.0</td>\n",
              "      <td>87.0</td>\n",
              "      <td>290.0</td>\n",
              "      <td>62.0</td>\n",
              "      <td>29.0</td>\n",
              "      <td>360.0</td>\n",
              "      <td>36.0</td>\n",
              "      <td>59.0</td>\n",
              "      <td>https://games-cdn.washingtonpost.com/notes/pro...</td>\n",
              "      <td>NaN</td>\n",
              "    </tr>\n",
              "    <tr>\n",
              "      <th>2</th>\n",
              "      <td>1/21/2019</td>\n",
              "      <td>1/24/2019</td>\n",
              "      <td>ABC News/Washington Post</td>\n",
              "      <td>NaN</td>\n",
              "      <td>1001</td>\n",
              "      <td>a</td>\n",
              "      <td>NaN</td>\n",
              "      <td>Based on what you know, do you think Congress ...</td>\n",
              "      <td>begin_proceedings</td>\n",
              "      <td>yes</td>\n",
              "      <td>...</td>\n",
              "      <td>7.0</td>\n",
              "      <td>90.0</td>\n",
              "      <td>320.0</td>\n",
              "      <td>64.0</td>\n",
              "      <td>30.0</td>\n",
              "      <td>370.0</td>\n",
              "      <td>42.0</td>\n",
              "      <td>53.0</td>\n",
              "      <td>langerresearch.com/wp-content/uploads/1204a2Tr...</td>\n",
              "      <td>NaN</td>\n",
              "    </tr>\n",
              "    <tr>\n",
              "      <th>3</th>\n",
              "      <td>8/26/2018</td>\n",
              "      <td>8/29/2018</td>\n",
              "      <td>ABC News/Washington Post</td>\n",
              "      <td>NaN</td>\n",
              "      <td>1003</td>\n",
              "      <td>a</td>\n",
              "      <td>NaN</td>\n",
              "      <td>Based on what you know, do you think Congress ...</td>\n",
              "      <td>begin_proceedings</td>\n",
              "      <td>yes</td>\n",
              "      <td>...</td>\n",
              "      <td>15.0</td>\n",
              "      <td>82.0</td>\n",
              "      <td>331.0</td>\n",
              "      <td>75.0</td>\n",
              "      <td>21.0</td>\n",
              "      <td>371.0</td>\n",
              "      <td>49.0</td>\n",
              "      <td>46.0</td>\n",
              "      <td>https://www.langerresearch.com/wp-content/uplo...</td>\n",
              "      <td>NaN</td>\n",
              "    </tr>\n",
              "    <tr>\n",
              "      <th>4</th>\n",
              "      <td>6/8/2019</td>\n",
              "      <td>6/12/2019</td>\n",
              "      <td>Civiqs</td>\n",
              "      <td>NaN</td>\n",
              "      <td>1559</td>\n",
              "      <td>rv</td>\n",
              "      <td>NaN</td>\n",
              "      <td>Do you think the House of Representatives shou...</td>\n",
              "      <td>begin_inquiry</td>\n",
              "      <td>yes</td>\n",
              "      <td>...</td>\n",
              "      <td>5.0</td>\n",
              "      <td>93.0</td>\n",
              "      <td>577.0</td>\n",
              "      <td>77.0</td>\n",
              "      <td>15.0</td>\n",
              "      <td>499.0</td>\n",
              "      <td>41.0</td>\n",
              "      <td>53.0</td>\n",
              "      <td>https://civiqs.com/documents/Civiqs_DailyKos_m...</td>\n",
              "      <td>NaN</td>\n",
              "    </tr>\n",
              "  </tbody>\n",
              "</table>\n",
              "<p>5 rows × 24 columns</p>\n",
              "</div>\n",
              "      <button class=\"colab-df-convert\" onclick=\"convertToInteractive('df-3b195e87-c99f-4ac3-80b3-ac4258728586')\"\n",
              "              title=\"Convert this dataframe to an interactive table.\"\n",
              "              style=\"display:none;\">\n",
              "        \n",
              "  <svg xmlns=\"http://www.w3.org/2000/svg\" height=\"24px\"viewBox=\"0 0 24 24\"\n",
              "       width=\"24px\">\n",
              "    <path d=\"M0 0h24v24H0V0z\" fill=\"none\"/>\n",
              "    <path d=\"M18.56 5.44l.94 2.06.94-2.06 2.06-.94-2.06-.94-.94-2.06-.94 2.06-2.06.94zm-11 1L8.5 8.5l.94-2.06 2.06-.94-2.06-.94L8.5 2.5l-.94 2.06-2.06.94zm10 10l.94 2.06.94-2.06 2.06-.94-2.06-.94-.94-2.06-.94 2.06-2.06.94z\"/><path d=\"M17.41 7.96l-1.37-1.37c-.4-.4-.92-.59-1.43-.59-.52 0-1.04.2-1.43.59L10.3 9.45l-7.72 7.72c-.78.78-.78 2.05 0 2.83L4 21.41c.39.39.9.59 1.41.59.51 0 1.02-.2 1.41-.59l7.78-7.78 2.81-2.81c.8-.78.8-2.07 0-2.86zM5.41 20L4 18.59l7.72-7.72 1.47 1.35L5.41 20z\"/>\n",
              "  </svg>\n",
              "      </button>\n",
              "      \n",
              "  <style>\n",
              "    .colab-df-container {\n",
              "      display:flex;\n",
              "      flex-wrap:wrap;\n",
              "      gap: 12px;\n",
              "    }\n",
              "\n",
              "    .colab-df-convert {\n",
              "      background-color: #E8F0FE;\n",
              "      border: none;\n",
              "      border-radius: 50%;\n",
              "      cursor: pointer;\n",
              "      display: none;\n",
              "      fill: #1967D2;\n",
              "      height: 32px;\n",
              "      padding: 0 0 0 0;\n",
              "      width: 32px;\n",
              "    }\n",
              "\n",
              "    .colab-df-convert:hover {\n",
              "      background-color: #E2EBFA;\n",
              "      box-shadow: 0px 1px 2px rgba(60, 64, 67, 0.3), 0px 1px 3px 1px rgba(60, 64, 67, 0.15);\n",
              "      fill: #174EA6;\n",
              "    }\n",
              "\n",
              "    [theme=dark] .colab-df-convert {\n",
              "      background-color: #3B4455;\n",
              "      fill: #D2E3FC;\n",
              "    }\n",
              "\n",
              "    [theme=dark] .colab-df-convert:hover {\n",
              "      background-color: #434B5C;\n",
              "      box-shadow: 0px 1px 3px 1px rgba(0, 0, 0, 0.15);\n",
              "      filter: drop-shadow(0px 1px 2px rgba(0, 0, 0, 0.3));\n",
              "      fill: #FFFFFF;\n",
              "    }\n",
              "  </style>\n",
              "\n",
              "      <script>\n",
              "        const buttonEl =\n",
              "          document.querySelector('#df-3b195e87-c99f-4ac3-80b3-ac4258728586 button.colab-df-convert');\n",
              "        buttonEl.style.display =\n",
              "          google.colab.kernel.accessAllowed ? 'block' : 'none';\n",
              "\n",
              "        async function convertToInteractive(key) {\n",
              "          const element = document.querySelector('#df-3b195e87-c99f-4ac3-80b3-ac4258728586');\n",
              "          const dataTable =\n",
              "            await google.colab.kernel.invokeFunction('convertToInteractive',\n",
              "                                                     [key], {});\n",
              "          if (!dataTable) return;\n",
              "\n",
              "          const docLinkHtml = 'Like what you see? Visit the ' +\n",
              "            '<a target=\"_blank\" href=https://colab.research.google.com/notebooks/data_table.ipynb>data table notebook</a>'\n",
              "            + ' to learn more about interactive tables.';\n",
              "          element.innerHTML = '';\n",
              "          dataTable['output_type'] = 'display_data';\n",
              "          await google.colab.output.renderOutput(dataTable, element);\n",
              "          const docLink = document.createElement('div');\n",
              "          docLink.innerHTML = docLinkHtml;\n",
              "          element.appendChild(docLink);\n",
              "        }\n",
              "      </script>\n",
              "    </div>\n",
              "  </div>\n",
              "  "
            ]
          },
          "metadata": {},
          "execution_count": 5
        }
      ]
    },
    {
      "cell_type": "markdown",
      "source": [
        "**Выполним предобработку данных**"
      ],
      "metadata": {
        "id": "kBpkx_Y5-wgx"
      }
    },
    {
      "cell_type": "code",
      "source": [
        "df.info()\n"
      ],
      "metadata": {
        "colab": {
          "base_uri": "https://localhost:8080/"
        },
        "id": "h6Cj5nJCoRhQ",
        "outputId": "fccee090-5e72-4e9a-b81b-8c9774349f92"
      },
      "execution_count": 7,
      "outputs": [
        {
          "output_type": "stream",
          "name": "stdout",
          "text": [
            "<class 'pandas.core.frame.DataFrame'>\n",
            "RangeIndex: 542 entries, 0 to 541\n",
            "Data columns (total 24 columns):\n",
            " #   Column      Non-Null Count  Dtype  \n",
            "---  ------      --------------  -----  \n",
            " 0   Start       542 non-null    object \n",
            " 1   End         542 non-null    object \n",
            " 2   Pollster    542 non-null    object \n",
            " 3   Sponsor     276 non-null    object \n",
            " 4   SampleSize  542 non-null    int64  \n",
            " 5   Pop         542 non-null    object \n",
            " 6   tracking    114 non-null    object \n",
            " 7   Text        541 non-null    object \n",
            " 8   Category    541 non-null    object \n",
            " 9   Include?    542 non-null    object \n",
            " 10  Yes         542 non-null    float64\n",
            " 11  No          542 non-null    float64\n",
            " 12  Unsure      521 non-null    float64\n",
            " 13  Rep Sample  475 non-null    float64\n",
            " 14  Rep Yes     509 non-null    float64\n",
            " 15  Rep No      492 non-null    float64\n",
            " 16  Dem Sample  477 non-null    float64\n",
            " 17  Dem Yes     515 non-null    float64\n",
            " 18  Dem No      491 non-null    float64\n",
            " 19  Ind Sample  409 non-null    float64\n",
            " 20  Ind Yes     447 non-null    float64\n",
            " 21  Ind No      430 non-null    float64\n",
            " 22  URL         541 non-null    object \n",
            " 23  Notes       7 non-null      object \n",
            "dtypes: float64(12), int64(1), object(11)\n",
            "memory usage: 101.8+ KB\n"
          ]
        }
      ]
    },
    {
      "cell_type": "code",
      "source": [
        "#Проверим на пропуски\n",
        "df.isnull().sum()"
      ],
      "metadata": {
        "colab": {
          "base_uri": "https://localhost:8080/"
        },
        "id": "MH0yioTZovEn",
        "outputId": "7ab3a358-74bb-4903-c2b7-8f68bd92c18d"
      },
      "execution_count": 8,
      "outputs": [
        {
          "output_type": "execute_result",
          "data": {
            "text/plain": [
              "Start           0\n",
              "End             0\n",
              "Pollster        0\n",
              "Sponsor       266\n",
              "SampleSize      0\n",
              "Pop             0\n",
              "tracking      428\n",
              "Text            1\n",
              "Category        1\n",
              "Include?        0\n",
              "Yes             0\n",
              "No              0\n",
              "Unsure         21\n",
              "Rep Sample     67\n",
              "Rep Yes        33\n",
              "Rep No         50\n",
              "Dem Sample     65\n",
              "Dem Yes        27\n",
              "Dem No         51\n",
              "Ind Sample    133\n",
              "Ind Yes        95\n",
              "Ind No        112\n",
              "URL             1\n",
              "Notes         535\n",
              "dtype: int64"
            ]
          },
          "metadata": {},
          "execution_count": 8
        }
      ]
    },
    {
      "cell_type": "code",
      "source": [
        "df1 = df.drop(['tracking', 'Notes', 'Sponsor'], axis=1)\n",
        "#df.drop('Notes', axis=1)\n",
        "df1.isnull().sum()"
      ],
      "metadata": {
        "colab": {
          "base_uri": "https://localhost:8080/"
        },
        "id": "retyqXwspAvk",
        "outputId": "ff9664e7-1bfb-4438-b75a-69d848d23d34"
      },
      "execution_count": 11,
      "outputs": [
        {
          "output_type": "execute_result",
          "data": {
            "text/plain": [
              "Start           0\n",
              "End             0\n",
              "Pollster        0\n",
              "SampleSize      0\n",
              "Pop             0\n",
              "Text            1\n",
              "Category        1\n",
              "Include?        0\n",
              "Yes             0\n",
              "No              0\n",
              "Unsure         21\n",
              "Rep Sample     67\n",
              "Rep Yes        33\n",
              "Rep No         50\n",
              "Dem Sample     65\n",
              "Dem Yes        27\n",
              "Dem No         51\n",
              "Ind Sample    133\n",
              "Ind Yes        95\n",
              "Ind No        112\n",
              "URL             1\n",
              "dtype: int64"
            ]
          },
          "metadata": {},
          "execution_count": 11
        }
      ]
    },
    {
      "cell_type": "code",
      "source": [
        "df2 = df1.dropna()\n",
        "df2.isnull().sum()"
      ],
      "metadata": {
        "colab": {
          "base_uri": "https://localhost:8080/"
        },
        "id": "5vy-TETrp6f_",
        "outputId": "71b4e965-9b1d-4d3a-c953-68b0acccb573"
      },
      "execution_count": 16,
      "outputs": [
        {
          "output_type": "execute_result",
          "data": {
            "text/plain": [
              "Start         0\n",
              "End           0\n",
              "Pollster      0\n",
              "SampleSize    0\n",
              "Pop           0\n",
              "Text          0\n",
              "Category      0\n",
              "Include?      0\n",
              "Yes           0\n",
              "No            0\n",
              "Unsure        0\n",
              "Rep Sample    0\n",
              "Rep Yes       0\n",
              "Rep No        0\n",
              "Dem Sample    0\n",
              "Dem Yes       0\n",
              "Dem No        0\n",
              "Ind Sample    0\n",
              "Ind Yes       0\n",
              "Ind No        0\n",
              "URL           0\n",
              "dtype: int64"
            ]
          },
          "metadata": {},
          "execution_count": 16
        }
      ]
    },
    {
      "cell_type": "code",
      "source": [
        "df2.describe()"
      ],
      "metadata": {
        "colab": {
          "base_uri": "https://localhost:8080/",
          "height": 364
        },
        "id": "nxTReCbcqdSX",
        "outputId": "4162e5a9-8bf3-46b6-aab5-b2c05d5e2737"
      },
      "execution_count": 17,
      "outputs": [
        {
          "output_type": "execute_result",
          "data": {
            "text/plain": [
              "         SampleSize         Yes          No      Unsure   Rep Sample  \\\n",
              "count    390.000000  390.000000  390.000000  390.000000   390.000000   \n",
              "mean    1652.235897   44.355641   44.868974   10.789487   530.164103   \n",
              "std     1213.976110    4.813681    5.305436    4.862983   514.306320   \n",
              "min      500.000000   28.000000   28.000000    1.000000   111.000000   \n",
              "25%     1000.000000   41.000000   41.500000    7.000000   312.250000   \n",
              "50%     1468.000000   45.000000   43.300000   12.000000   388.000000   \n",
              "75%     1993.000000   48.000000   47.000000   14.350000   639.000000   \n",
              "max    18101.000000   58.000000   66.000000   28.000000  8368.000000   \n",
              "\n",
              "          Rep Yes      Rep No   Dem Sample     Dem Yes      Dem No  \\\n",
              "count  390.000000  390.000000   390.000000  390.000000  390.000000   \n",
              "mean    10.527692   84.239487   615.376923   77.625641   13.323846   \n",
              "std      3.616444    5.430177   494.539519    7.947340    5.834004   \n",
              "min      2.000000   64.000000   164.000000   53.000000    4.000000   \n",
              "25%      8.000000   81.000000   355.750000   72.000000    9.000000   \n",
              "50%     10.950000   83.000000   480.500000   78.000000   12.000000   \n",
              "75%     13.000000   88.000000   736.000000   84.000000   16.875000   \n",
              "max     28.000000   97.000000  6989.000000   95.000000   38.000000   \n",
              "\n",
              "        Ind Sample     Ind Yes      Ind No  \n",
              "count   390.000000  390.000000  390.000000  \n",
              "mean    440.564103   39.799487   43.315385  \n",
              "std     203.764494    6.242750    7.494301  \n",
              "min      55.000000   22.000000   16.000000  \n",
              "25%     296.000000   36.000000   38.800000  \n",
              "50%     416.000000   39.000000   42.000000  \n",
              "75%     580.250000   44.000000   47.000000  \n",
              "max    2290.000000   58.000000   70.000000  "
            ],
            "text/html": [
              "\n",
              "  <div id=\"df-58905938-a8d3-4d14-9473-d20162987262\">\n",
              "    <div class=\"colab-df-container\">\n",
              "      <div>\n",
              "<style scoped>\n",
              "    .dataframe tbody tr th:only-of-type {\n",
              "        vertical-align: middle;\n",
              "    }\n",
              "\n",
              "    .dataframe tbody tr th {\n",
              "        vertical-align: top;\n",
              "    }\n",
              "\n",
              "    .dataframe thead th {\n",
              "        text-align: right;\n",
              "    }\n",
              "</style>\n",
              "<table border=\"1\" class=\"dataframe\">\n",
              "  <thead>\n",
              "    <tr style=\"text-align: right;\">\n",
              "      <th></th>\n",
              "      <th>SampleSize</th>\n",
              "      <th>Yes</th>\n",
              "      <th>No</th>\n",
              "      <th>Unsure</th>\n",
              "      <th>Rep Sample</th>\n",
              "      <th>Rep Yes</th>\n",
              "      <th>Rep No</th>\n",
              "      <th>Dem Sample</th>\n",
              "      <th>Dem Yes</th>\n",
              "      <th>Dem No</th>\n",
              "      <th>Ind Sample</th>\n",
              "      <th>Ind Yes</th>\n",
              "      <th>Ind No</th>\n",
              "    </tr>\n",
              "  </thead>\n",
              "  <tbody>\n",
              "    <tr>\n",
              "      <th>count</th>\n",
              "      <td>390.000000</td>\n",
              "      <td>390.000000</td>\n",
              "      <td>390.000000</td>\n",
              "      <td>390.000000</td>\n",
              "      <td>390.000000</td>\n",
              "      <td>390.000000</td>\n",
              "      <td>390.000000</td>\n",
              "      <td>390.000000</td>\n",
              "      <td>390.000000</td>\n",
              "      <td>390.000000</td>\n",
              "      <td>390.000000</td>\n",
              "      <td>390.000000</td>\n",
              "      <td>390.000000</td>\n",
              "    </tr>\n",
              "    <tr>\n",
              "      <th>mean</th>\n",
              "      <td>1652.235897</td>\n",
              "      <td>44.355641</td>\n",
              "      <td>44.868974</td>\n",
              "      <td>10.789487</td>\n",
              "      <td>530.164103</td>\n",
              "      <td>10.527692</td>\n",
              "      <td>84.239487</td>\n",
              "      <td>615.376923</td>\n",
              "      <td>77.625641</td>\n",
              "      <td>13.323846</td>\n",
              "      <td>440.564103</td>\n",
              "      <td>39.799487</td>\n",
              "      <td>43.315385</td>\n",
              "    </tr>\n",
              "    <tr>\n",
              "      <th>std</th>\n",
              "      <td>1213.976110</td>\n",
              "      <td>4.813681</td>\n",
              "      <td>5.305436</td>\n",
              "      <td>4.862983</td>\n",
              "      <td>514.306320</td>\n",
              "      <td>3.616444</td>\n",
              "      <td>5.430177</td>\n",
              "      <td>494.539519</td>\n",
              "      <td>7.947340</td>\n",
              "      <td>5.834004</td>\n",
              "      <td>203.764494</td>\n",
              "      <td>6.242750</td>\n",
              "      <td>7.494301</td>\n",
              "    </tr>\n",
              "    <tr>\n",
              "      <th>min</th>\n",
              "      <td>500.000000</td>\n",
              "      <td>28.000000</td>\n",
              "      <td>28.000000</td>\n",
              "      <td>1.000000</td>\n",
              "      <td>111.000000</td>\n",
              "      <td>2.000000</td>\n",
              "      <td>64.000000</td>\n",
              "      <td>164.000000</td>\n",
              "      <td>53.000000</td>\n",
              "      <td>4.000000</td>\n",
              "      <td>55.000000</td>\n",
              "      <td>22.000000</td>\n",
              "      <td>16.000000</td>\n",
              "    </tr>\n",
              "    <tr>\n",
              "      <th>25%</th>\n",
              "      <td>1000.000000</td>\n",
              "      <td>41.000000</td>\n",
              "      <td>41.500000</td>\n",
              "      <td>7.000000</td>\n",
              "      <td>312.250000</td>\n",
              "      <td>8.000000</td>\n",
              "      <td>81.000000</td>\n",
              "      <td>355.750000</td>\n",
              "      <td>72.000000</td>\n",
              "      <td>9.000000</td>\n",
              "      <td>296.000000</td>\n",
              "      <td>36.000000</td>\n",
              "      <td>38.800000</td>\n",
              "    </tr>\n",
              "    <tr>\n",
              "      <th>50%</th>\n",
              "      <td>1468.000000</td>\n",
              "      <td>45.000000</td>\n",
              "      <td>43.300000</td>\n",
              "      <td>12.000000</td>\n",
              "      <td>388.000000</td>\n",
              "      <td>10.950000</td>\n",
              "      <td>83.000000</td>\n",
              "      <td>480.500000</td>\n",
              "      <td>78.000000</td>\n",
              "      <td>12.000000</td>\n",
              "      <td>416.000000</td>\n",
              "      <td>39.000000</td>\n",
              "      <td>42.000000</td>\n",
              "    </tr>\n",
              "    <tr>\n",
              "      <th>75%</th>\n",
              "      <td>1993.000000</td>\n",
              "      <td>48.000000</td>\n",
              "      <td>47.000000</td>\n",
              "      <td>14.350000</td>\n",
              "      <td>639.000000</td>\n",
              "      <td>13.000000</td>\n",
              "      <td>88.000000</td>\n",
              "      <td>736.000000</td>\n",
              "      <td>84.000000</td>\n",
              "      <td>16.875000</td>\n",
              "      <td>580.250000</td>\n",
              "      <td>44.000000</td>\n",
              "      <td>47.000000</td>\n",
              "    </tr>\n",
              "    <tr>\n",
              "      <th>max</th>\n",
              "      <td>18101.000000</td>\n",
              "      <td>58.000000</td>\n",
              "      <td>66.000000</td>\n",
              "      <td>28.000000</td>\n",
              "      <td>8368.000000</td>\n",
              "      <td>28.000000</td>\n",
              "      <td>97.000000</td>\n",
              "      <td>6989.000000</td>\n",
              "      <td>95.000000</td>\n",
              "      <td>38.000000</td>\n",
              "      <td>2290.000000</td>\n",
              "      <td>58.000000</td>\n",
              "      <td>70.000000</td>\n",
              "    </tr>\n",
              "  </tbody>\n",
              "</table>\n",
              "</div>\n",
              "      <button class=\"colab-df-convert\" onclick=\"convertToInteractive('df-58905938-a8d3-4d14-9473-d20162987262')\"\n",
              "              title=\"Convert this dataframe to an interactive table.\"\n",
              "              style=\"display:none;\">\n",
              "        \n",
              "  <svg xmlns=\"http://www.w3.org/2000/svg\" height=\"24px\"viewBox=\"0 0 24 24\"\n",
              "       width=\"24px\">\n",
              "    <path d=\"M0 0h24v24H0V0z\" fill=\"none\"/>\n",
              "    <path d=\"M18.56 5.44l.94 2.06.94-2.06 2.06-.94-2.06-.94-.94-2.06-.94 2.06-2.06.94zm-11 1L8.5 8.5l.94-2.06 2.06-.94-2.06-.94L8.5 2.5l-.94 2.06-2.06.94zm10 10l.94 2.06.94-2.06 2.06-.94-2.06-.94-.94-2.06-.94 2.06-2.06.94z\"/><path d=\"M17.41 7.96l-1.37-1.37c-.4-.4-.92-.59-1.43-.59-.52 0-1.04.2-1.43.59L10.3 9.45l-7.72 7.72c-.78.78-.78 2.05 0 2.83L4 21.41c.39.39.9.59 1.41.59.51 0 1.02-.2 1.41-.59l7.78-7.78 2.81-2.81c.8-.78.8-2.07 0-2.86zM5.41 20L4 18.59l7.72-7.72 1.47 1.35L5.41 20z\"/>\n",
              "  </svg>\n",
              "      </button>\n",
              "      \n",
              "  <style>\n",
              "    .colab-df-container {\n",
              "      display:flex;\n",
              "      flex-wrap:wrap;\n",
              "      gap: 12px;\n",
              "    }\n",
              "\n",
              "    .colab-df-convert {\n",
              "      background-color: #E8F0FE;\n",
              "      border: none;\n",
              "      border-radius: 50%;\n",
              "      cursor: pointer;\n",
              "      display: none;\n",
              "      fill: #1967D2;\n",
              "      height: 32px;\n",
              "      padding: 0 0 0 0;\n",
              "      width: 32px;\n",
              "    }\n",
              "\n",
              "    .colab-df-convert:hover {\n",
              "      background-color: #E2EBFA;\n",
              "      box-shadow: 0px 1px 2px rgba(60, 64, 67, 0.3), 0px 1px 3px 1px rgba(60, 64, 67, 0.15);\n",
              "      fill: #174EA6;\n",
              "    }\n",
              "\n",
              "    [theme=dark] .colab-df-convert {\n",
              "      background-color: #3B4455;\n",
              "      fill: #D2E3FC;\n",
              "    }\n",
              "\n",
              "    [theme=dark] .colab-df-convert:hover {\n",
              "      background-color: #434B5C;\n",
              "      box-shadow: 0px 1px 3px 1px rgba(0, 0, 0, 0.15);\n",
              "      filter: drop-shadow(0px 1px 2px rgba(0, 0, 0, 0.3));\n",
              "      fill: #FFFFFF;\n",
              "    }\n",
              "  </style>\n",
              "\n",
              "      <script>\n",
              "        const buttonEl =\n",
              "          document.querySelector('#df-58905938-a8d3-4d14-9473-d20162987262 button.colab-df-convert');\n",
              "        buttonEl.style.display =\n",
              "          google.colab.kernel.accessAllowed ? 'block' : 'none';\n",
              "\n",
              "        async function convertToInteractive(key) {\n",
              "          const element = document.querySelector('#df-58905938-a8d3-4d14-9473-d20162987262');\n",
              "          const dataTable =\n",
              "            await google.colab.kernel.invokeFunction('convertToInteractive',\n",
              "                                                     [key], {});\n",
              "          if (!dataTable) return;\n",
              "\n",
              "          const docLinkHtml = 'Like what you see? Visit the ' +\n",
              "            '<a target=\"_blank\" href=https://colab.research.google.com/notebooks/data_table.ipynb>data table notebook</a>'\n",
              "            + ' to learn more about interactive tables.';\n",
              "          element.innerHTML = '';\n",
              "          dataTable['output_type'] = 'display_data';\n",
              "          await google.colab.output.renderOutput(dataTable, element);\n",
              "          const docLink = document.createElement('div');\n",
              "          docLink.innerHTML = docLinkHtml;\n",
              "          element.appendChild(docLink);\n",
              "        }\n",
              "      </script>\n",
              "    </div>\n",
              "  </div>\n",
              "  "
            ]
          },
          "metadata": {},
          "execution_count": 17
        }
      ]
    },
    {
      "cell_type": "code",
      "source": [
        "df2.dtypes"
      ],
      "metadata": {
        "colab": {
          "base_uri": "https://localhost:8080/"
        },
        "id": "EqDLg49SuY84",
        "outputId": "5528de71-e684-43e2-f09b-2306d633deaa"
      },
      "execution_count": 29,
      "outputs": [
        {
          "output_type": "execute_result",
          "data": {
            "text/plain": [
              "Start          object\n",
              "End            object\n",
              "Pollster       object\n",
              "SampleSize      int64\n",
              "Pop            object\n",
              "Text           object\n",
              "Category        int64\n",
              "Include?       object\n",
              "Yes           float64\n",
              "No            float64\n",
              "Unsure        float64\n",
              "Rep Sample    float64\n",
              "Rep Yes       float64\n",
              "Rep No        float64\n",
              "Dem Sample    float64\n",
              "Dem Yes       float64\n",
              "Dem No        float64\n",
              "Ind Sample    float64\n",
              "Ind Yes       float64\n",
              "Ind No        float64\n",
              "URL            object\n",
              "dtype: object"
            ]
          },
          "metadata": {},
          "execution_count": 29
        }
      ]
    },
    {
      "cell_type": "markdown",
      "source": [
        "Для решения задачи классификации выполним кодирование категориальных признаков"
      ],
      "metadata": {
        "id": "-qdOAa72rqXX"
      }
    },
    {
      "cell_type": "code",
      "source": [
        "from sklearn.preprocessing import LabelEncoder"
      ],
      "metadata": {
        "id": "O2Z6rvdLr0B-"
      },
      "execution_count": 18,
      "outputs": []
    },
    {
      "cell_type": "code",
      "source": [
        "#df2['Category'].unique()\n",
        "for col in df2.columns:\n",
        "    print('{} - {}'.format(col, len(df2[col].unique())))"
      ],
      "metadata": {
        "colab": {
          "base_uri": "https://localhost:8080/"
        },
        "id": "4FGrScVcr5b_",
        "outputId": "154cf8ca-2d6f-4e94-f458-b0210553bb9d"
      },
      "execution_count": 38,
      "outputs": [
        {
          "output_type": "stream",
          "name": "stdout",
          "text": [
            "Start - 248\n",
            "End - 234\n",
            "Pollster - 26\n",
            "SampleSize - 181\n",
            "Pop - 3\n",
            "Text - 94\n",
            "Category - 8\n",
            "Include? - 2\n",
            "Yes - 68\n",
            "No - 69\n",
            "Unsure - 58\n",
            "Rep Sample - 231\n",
            "Rep Yes - 55\n",
            "Rep No - 64\n",
            "Dem Sample - 253\n",
            "Dem Yes - 81\n",
            "Dem No - 72\n",
            "Ind Sample - 229\n",
            "Ind Yes - 58\n",
            "Ind No - 69\n",
            "URL - 271\n"
          ]
        }
      ]
    },
    {
      "cell_type": "code",
      "source": [
        "#преобразование\n",
        "le1 = LabelEncoder()\n",
        "df2[\"Category\"] = le1.fit_transform(df2['Category'])\n",
        "df2[\"Start\"] = le1.fit_transform(df2['Start'])\n",
        "df2[\"End\"] = le1.fit_transform(df2['End'])\n",
        "df2[\"Pollster\"] = le1.fit_transform(df2['Pollster'])\n",
        "df2[\"Pop\"] = le1.fit_transform(df2['Pop'])\n",
        "df2[\"Text\"] = le1.fit_transform(df2['Text'])\n",
        "df2[\"Include?\"] = le1.fit_transform(df2['Include?'])\n",
        "df2[\"URL\"] = le1.fit_transform(df2['URL'])\n",
        "df2.head()"
      ],
      "metadata": {
        "colab": {
          "base_uri": "https://localhost:8080/",
          "height": 1000
        },
        "id": "dDgqtbnxsUdp",
        "outputId": "192130ec-c37f-4ca6-de30-c48a78557749"
      },
      "execution_count": 40,
      "outputs": [
        {
          "output_type": "stream",
          "name": "stderr",
          "text": [
            "/usr/local/lib/python3.7/dist-packages/ipykernel_launcher.py:3: SettingWithCopyWarning: \n",
            "A value is trying to be set on a copy of a slice from a DataFrame.\n",
            "Try using .loc[row_indexer,col_indexer] = value instead\n",
            "\n",
            "See the caveats in the documentation: https://pandas.pydata.org/pandas-docs/stable/user_guide/indexing.html#returning-a-view-versus-a-copy\n",
            "  This is separate from the ipykernel package so we can avoid doing imports until\n",
            "/usr/local/lib/python3.7/dist-packages/ipykernel_launcher.py:4: SettingWithCopyWarning: \n",
            "A value is trying to be set on a copy of a slice from a DataFrame.\n",
            "Try using .loc[row_indexer,col_indexer] = value instead\n",
            "\n",
            "See the caveats in the documentation: https://pandas.pydata.org/pandas-docs/stable/user_guide/indexing.html#returning-a-view-versus-a-copy\n",
            "  after removing the cwd from sys.path.\n",
            "/usr/local/lib/python3.7/dist-packages/ipykernel_launcher.py:5: SettingWithCopyWarning: \n",
            "A value is trying to be set on a copy of a slice from a DataFrame.\n",
            "Try using .loc[row_indexer,col_indexer] = value instead\n",
            "\n",
            "See the caveats in the documentation: https://pandas.pydata.org/pandas-docs/stable/user_guide/indexing.html#returning-a-view-versus-a-copy\n",
            "  \"\"\"\n",
            "/usr/local/lib/python3.7/dist-packages/ipykernel_launcher.py:6: SettingWithCopyWarning: \n",
            "A value is trying to be set on a copy of a slice from a DataFrame.\n",
            "Try using .loc[row_indexer,col_indexer] = value instead\n",
            "\n",
            "See the caveats in the documentation: https://pandas.pydata.org/pandas-docs/stable/user_guide/indexing.html#returning-a-view-versus-a-copy\n",
            "  \n",
            "/usr/local/lib/python3.7/dist-packages/ipykernel_launcher.py:7: SettingWithCopyWarning: \n",
            "A value is trying to be set on a copy of a slice from a DataFrame.\n",
            "Try using .loc[row_indexer,col_indexer] = value instead\n",
            "\n",
            "See the caveats in the documentation: https://pandas.pydata.org/pandas-docs/stable/user_guide/indexing.html#returning-a-view-versus-a-copy\n",
            "  import sys\n",
            "/usr/local/lib/python3.7/dist-packages/ipykernel_launcher.py:8: SettingWithCopyWarning: \n",
            "A value is trying to be set on a copy of a slice from a DataFrame.\n",
            "Try using .loc[row_indexer,col_indexer] = value instead\n",
            "\n",
            "See the caveats in the documentation: https://pandas.pydata.org/pandas-docs/stable/user_guide/indexing.html#returning-a-view-versus-a-copy\n",
            "  \n",
            "/usr/local/lib/python3.7/dist-packages/ipykernel_launcher.py:9: SettingWithCopyWarning: \n",
            "A value is trying to be set on a copy of a slice from a DataFrame.\n",
            "Try using .loc[row_indexer,col_indexer] = value instead\n",
            "\n",
            "See the caveats in the documentation: https://pandas.pydata.org/pandas-docs/stable/user_guide/indexing.html#returning-a-view-versus-a-copy\n",
            "  if __name__ == '__main__':\n",
            "/usr/local/lib/python3.7/dist-packages/ipykernel_launcher.py:10: SettingWithCopyWarning: \n",
            "A value is trying to be set on a copy of a slice from a DataFrame.\n",
            "Try using .loc[row_indexer,col_indexer] = value instead\n",
            "\n",
            "See the caveats in the documentation: https://pandas.pydata.org/pandas-docs/stable/user_guide/indexing.html#returning-a-view-versus-a-copy\n",
            "  # Remove the CWD from sys.path while we load stuff.\n"
          ]
        },
        {
          "output_type": "execute_result",
          "data": {
            "text/plain": [
              "   Start  End  Pollster  SampleSize  Pop  Text  Category  Include?   Yes  \\\n",
              "0    190  188         0        1008    0    28         1         1  37.0   \n",
              "1    162  158         0        1001    0    28         1         1  37.0   \n",
              "2     12   16         0        1001    0    28         1         1  40.0   \n",
              "3    224  213         0        1003    0    28         1         1  49.0   \n",
              "4    198  178         4        1559    2    63         0         1  43.0   \n",
              "\n",
              "     No  ...  Rep Sample  Rep Yes  Rep No  Dem Sample  Dem Yes  Dem No  \\\n",
              "0  59.0  ...       232.0      7.0    87.0       292.0     61.0    36.0   \n",
              "1  56.0  ...       260.0     10.0    87.0       290.0     62.0    29.0   \n",
              "2  55.0  ...       240.0      7.0    90.0       320.0     64.0    30.0   \n",
              "3  46.0  ...       251.0     15.0    82.0       331.0     75.0    21.0   \n",
              "4  51.0  ...       483.0      5.0    93.0       577.0     77.0    15.0   \n",
              "\n",
              "   Ind Sample  Ind Yes  Ind No  URL  \n",
              "0       373.0     37.0    59.0   80  \n",
              "1       360.0     36.0    59.0   81  \n",
              "2       370.0     42.0    53.0  269  \n",
              "3       371.0     49.0    46.0  205  \n",
              "4       499.0     41.0    53.0   44  \n",
              "\n",
              "[5 rows x 21 columns]"
            ],
            "text/html": [
              "\n",
              "  <div id=\"df-70260b92-d6b5-4247-9bf9-38fb9a3ead56\">\n",
              "    <div class=\"colab-df-container\">\n",
              "      <div>\n",
              "<style scoped>\n",
              "    .dataframe tbody tr th:only-of-type {\n",
              "        vertical-align: middle;\n",
              "    }\n",
              "\n",
              "    .dataframe tbody tr th {\n",
              "        vertical-align: top;\n",
              "    }\n",
              "\n",
              "    .dataframe thead th {\n",
              "        text-align: right;\n",
              "    }\n",
              "</style>\n",
              "<table border=\"1\" class=\"dataframe\">\n",
              "  <thead>\n",
              "    <tr style=\"text-align: right;\">\n",
              "      <th></th>\n",
              "      <th>Start</th>\n",
              "      <th>End</th>\n",
              "      <th>Pollster</th>\n",
              "      <th>SampleSize</th>\n",
              "      <th>Pop</th>\n",
              "      <th>Text</th>\n",
              "      <th>Category</th>\n",
              "      <th>Include?</th>\n",
              "      <th>Yes</th>\n",
              "      <th>No</th>\n",
              "      <th>...</th>\n",
              "      <th>Rep Sample</th>\n",
              "      <th>Rep Yes</th>\n",
              "      <th>Rep No</th>\n",
              "      <th>Dem Sample</th>\n",
              "      <th>Dem Yes</th>\n",
              "      <th>Dem No</th>\n",
              "      <th>Ind Sample</th>\n",
              "      <th>Ind Yes</th>\n",
              "      <th>Ind No</th>\n",
              "      <th>URL</th>\n",
              "    </tr>\n",
              "  </thead>\n",
              "  <tbody>\n",
              "    <tr>\n",
              "      <th>0</th>\n",
              "      <td>190</td>\n",
              "      <td>188</td>\n",
              "      <td>0</td>\n",
              "      <td>1008</td>\n",
              "      <td>0</td>\n",
              "      <td>28</td>\n",
              "      <td>1</td>\n",
              "      <td>1</td>\n",
              "      <td>37.0</td>\n",
              "      <td>59.0</td>\n",
              "      <td>...</td>\n",
              "      <td>232.0</td>\n",
              "      <td>7.0</td>\n",
              "      <td>87.0</td>\n",
              "      <td>292.0</td>\n",
              "      <td>61.0</td>\n",
              "      <td>36.0</td>\n",
              "      <td>373.0</td>\n",
              "      <td>37.0</td>\n",
              "      <td>59.0</td>\n",
              "      <td>80</td>\n",
              "    </tr>\n",
              "    <tr>\n",
              "      <th>1</th>\n",
              "      <td>162</td>\n",
              "      <td>158</td>\n",
              "      <td>0</td>\n",
              "      <td>1001</td>\n",
              "      <td>0</td>\n",
              "      <td>28</td>\n",
              "      <td>1</td>\n",
              "      <td>1</td>\n",
              "      <td>37.0</td>\n",
              "      <td>56.0</td>\n",
              "      <td>...</td>\n",
              "      <td>260.0</td>\n",
              "      <td>10.0</td>\n",
              "      <td>87.0</td>\n",
              "      <td>290.0</td>\n",
              "      <td>62.0</td>\n",
              "      <td>29.0</td>\n",
              "      <td>360.0</td>\n",
              "      <td>36.0</td>\n",
              "      <td>59.0</td>\n",
              "      <td>81</td>\n",
              "    </tr>\n",
              "    <tr>\n",
              "      <th>2</th>\n",
              "      <td>12</td>\n",
              "      <td>16</td>\n",
              "      <td>0</td>\n",
              "      <td>1001</td>\n",
              "      <td>0</td>\n",
              "      <td>28</td>\n",
              "      <td>1</td>\n",
              "      <td>1</td>\n",
              "      <td>40.0</td>\n",
              "      <td>55.0</td>\n",
              "      <td>...</td>\n",
              "      <td>240.0</td>\n",
              "      <td>7.0</td>\n",
              "      <td>90.0</td>\n",
              "      <td>320.0</td>\n",
              "      <td>64.0</td>\n",
              "      <td>30.0</td>\n",
              "      <td>370.0</td>\n",
              "      <td>42.0</td>\n",
              "      <td>53.0</td>\n",
              "      <td>269</td>\n",
              "    </tr>\n",
              "    <tr>\n",
              "      <th>3</th>\n",
              "      <td>224</td>\n",
              "      <td>213</td>\n",
              "      <td>0</td>\n",
              "      <td>1003</td>\n",
              "      <td>0</td>\n",
              "      <td>28</td>\n",
              "      <td>1</td>\n",
              "      <td>1</td>\n",
              "      <td>49.0</td>\n",
              "      <td>46.0</td>\n",
              "      <td>...</td>\n",
              "      <td>251.0</td>\n",
              "      <td>15.0</td>\n",
              "      <td>82.0</td>\n",
              "      <td>331.0</td>\n",
              "      <td>75.0</td>\n",
              "      <td>21.0</td>\n",
              "      <td>371.0</td>\n",
              "      <td>49.0</td>\n",
              "      <td>46.0</td>\n",
              "      <td>205</td>\n",
              "    </tr>\n",
              "    <tr>\n",
              "      <th>4</th>\n",
              "      <td>198</td>\n",
              "      <td>178</td>\n",
              "      <td>4</td>\n",
              "      <td>1559</td>\n",
              "      <td>2</td>\n",
              "      <td>63</td>\n",
              "      <td>0</td>\n",
              "      <td>1</td>\n",
              "      <td>43.0</td>\n",
              "      <td>51.0</td>\n",
              "      <td>...</td>\n",
              "      <td>483.0</td>\n",
              "      <td>5.0</td>\n",
              "      <td>93.0</td>\n",
              "      <td>577.0</td>\n",
              "      <td>77.0</td>\n",
              "      <td>15.0</td>\n",
              "      <td>499.0</td>\n",
              "      <td>41.0</td>\n",
              "      <td>53.0</td>\n",
              "      <td>44</td>\n",
              "    </tr>\n",
              "  </tbody>\n",
              "</table>\n",
              "<p>5 rows × 21 columns</p>\n",
              "</div>\n",
              "      <button class=\"colab-df-convert\" onclick=\"convertToInteractive('df-70260b92-d6b5-4247-9bf9-38fb9a3ead56')\"\n",
              "              title=\"Convert this dataframe to an interactive table.\"\n",
              "              style=\"display:none;\">\n",
              "        \n",
              "  <svg xmlns=\"http://www.w3.org/2000/svg\" height=\"24px\"viewBox=\"0 0 24 24\"\n",
              "       width=\"24px\">\n",
              "    <path d=\"M0 0h24v24H0V0z\" fill=\"none\"/>\n",
              "    <path d=\"M18.56 5.44l.94 2.06.94-2.06 2.06-.94-2.06-.94-.94-2.06-.94 2.06-2.06.94zm-11 1L8.5 8.5l.94-2.06 2.06-.94-2.06-.94L8.5 2.5l-.94 2.06-2.06.94zm10 10l.94 2.06.94-2.06 2.06-.94-2.06-.94-.94-2.06-.94 2.06-2.06.94z\"/><path d=\"M17.41 7.96l-1.37-1.37c-.4-.4-.92-.59-1.43-.59-.52 0-1.04.2-1.43.59L10.3 9.45l-7.72 7.72c-.78.78-.78 2.05 0 2.83L4 21.41c.39.39.9.59 1.41.59.51 0 1.02-.2 1.41-.59l7.78-7.78 2.81-2.81c.8-.78.8-2.07 0-2.86zM5.41 20L4 18.59l7.72-7.72 1.47 1.35L5.41 20z\"/>\n",
              "  </svg>\n",
              "      </button>\n",
              "      \n",
              "  <style>\n",
              "    .colab-df-container {\n",
              "      display:flex;\n",
              "      flex-wrap:wrap;\n",
              "      gap: 12px;\n",
              "    }\n",
              "\n",
              "    .colab-df-convert {\n",
              "      background-color: #E8F0FE;\n",
              "      border: none;\n",
              "      border-radius: 50%;\n",
              "      cursor: pointer;\n",
              "      display: none;\n",
              "      fill: #1967D2;\n",
              "      height: 32px;\n",
              "      padding: 0 0 0 0;\n",
              "      width: 32px;\n",
              "    }\n",
              "\n",
              "    .colab-df-convert:hover {\n",
              "      background-color: #E2EBFA;\n",
              "      box-shadow: 0px 1px 2px rgba(60, 64, 67, 0.3), 0px 1px 3px 1px rgba(60, 64, 67, 0.15);\n",
              "      fill: #174EA6;\n",
              "    }\n",
              "\n",
              "    [theme=dark] .colab-df-convert {\n",
              "      background-color: #3B4455;\n",
              "      fill: #D2E3FC;\n",
              "    }\n",
              "\n",
              "    [theme=dark] .colab-df-convert:hover {\n",
              "      background-color: #434B5C;\n",
              "      box-shadow: 0px 1px 3px 1px rgba(0, 0, 0, 0.15);\n",
              "      filter: drop-shadow(0px 1px 2px rgba(0, 0, 0, 0.3));\n",
              "      fill: #FFFFFF;\n",
              "    }\n",
              "  </style>\n",
              "\n",
              "      <script>\n",
              "        const buttonEl =\n",
              "          document.querySelector('#df-70260b92-d6b5-4247-9bf9-38fb9a3ead56 button.colab-df-convert');\n",
              "        buttonEl.style.display =\n",
              "          google.colab.kernel.accessAllowed ? 'block' : 'none';\n",
              "\n",
              "        async function convertToInteractive(key) {\n",
              "          const element = document.querySelector('#df-70260b92-d6b5-4247-9bf9-38fb9a3ead56');\n",
              "          const dataTable =\n",
              "            await google.colab.kernel.invokeFunction('convertToInteractive',\n",
              "                                                     [key], {});\n",
              "          if (!dataTable) return;\n",
              "\n",
              "          const docLinkHtml = 'Like what you see? Visit the ' +\n",
              "            '<a target=\"_blank\" href=https://colab.research.google.com/notebooks/data_table.ipynb>data table notebook</a>'\n",
              "            + ' to learn more about interactive tables.';\n",
              "          element.innerHTML = '';\n",
              "          dataTable['output_type'] = 'display_data';\n",
              "          await google.colab.output.renderOutput(dataTable, element);\n",
              "          const docLink = document.createElement('div');\n",
              "          docLink.innerHTML = docLinkHtml;\n",
              "          element.appendChild(docLink);\n",
              "        }\n",
              "      </script>\n",
              "    </div>\n",
              "  </div>\n",
              "  "
            ]
          },
          "metadata": {},
          "execution_count": 40
        }
      ]
    },
    {
      "cell_type": "code",
      "source": [
        "df2.dtypes"
      ],
      "metadata": {
        "colab": {
          "base_uri": "https://localhost:8080/"
        },
        "id": "lIvv1Re-xd-m",
        "outputId": "2d0bf5c0-70d7-4a38-c5ad-1d80f04cb851"
      },
      "execution_count": 41,
      "outputs": [
        {
          "output_type": "execute_result",
          "data": {
            "text/plain": [
              "Start           int64\n",
              "End             int64\n",
              "Pollster        int64\n",
              "SampleSize      int64\n",
              "Pop             int64\n",
              "Text            int64\n",
              "Category        int64\n",
              "Include?        int64\n",
              "Yes           float64\n",
              "No            float64\n",
              "Unsure        float64\n",
              "Rep Sample    float64\n",
              "Rep Yes       float64\n",
              "Rep No        float64\n",
              "Dem Sample    float64\n",
              "Dem Yes       float64\n",
              "Dem No        float64\n",
              "Ind Sample    float64\n",
              "Ind Yes       float64\n",
              "Ind No        float64\n",
              "URL             int64\n",
              "dtype: object"
            ]
          },
          "metadata": {},
          "execution_count": 41
        }
      ]
    },
    {
      "cell_type": "markdown",
      "source": [
        "**Решение задачи классификации**"
      ],
      "metadata": {
        "id": "JZILmXxyxwcf"
      }
    },
    {
      "cell_type": "markdown",
      "source": [
        "Будем оценить модели при помощи метрик F1, Precision и Recall, а также построим матрицы ошибок. Дисбаланс классов учитываем в виде веса классов."
      ],
      "metadata": {
        "id": "jGaNhmkV-5Ug"
      }
    },
    {
      "cell_type": "code",
      "source": [
        "def print_metrics(y_test, y_pred):\n",
        "  sns.heatmap(confusion_matrix(y_test, y_pred), annot=True, cmap=\"Blues\")  \n",
        "  print(f\"Precision: {precision_score(y_test, y_pred, average='weighted', labels=np.unique(y_pred))}\")\n",
        "  print(f\"Recall: {recall_score(y_test, y_pred, average='weighted', labels=np.unique(y_pred))}\")\n",
        "  print(f\"F1: {f1_score(y_test, y_pred, average='weighted', labels=np.unique(y_pred))}\")\n",
        "  #print(f\"Report: {classification_report(y_test, y_pred, output_dict=True)}\")"
      ],
      "metadata": {
        "id": "IrQ-dWNgxzCb"
      },
      "execution_count": 105,
      "outputs": []
    },
    {
      "cell_type": "code",
      "source": [
        "y = df2['Category']\n",
        "x = df2.drop('Category', axis=1)"
      ],
      "metadata": {
        "id": "JOGNWUys3J_R"
      },
      "execution_count": 48,
      "outputs": []
    },
    {
      "cell_type": "code",
      "source": [
        "x_train, x_test, y_train, y_test = train_test_split(x, y, test_size=0.3, random_state=5)"
      ],
      "metadata": {
        "id": "xThBbd133Ev5"
      },
      "execution_count": 106,
      "outputs": []
    },
    {
      "cell_type": "markdown",
      "source": [
        "Метод SVM\n"
      ],
      "metadata": {
        "id": "oAuPw_nsGAj9"
      }
    },
    {
      "cell_type": "code",
      "source": [
        "svm1 = SVC()\n",
        "est1 = svm1.fit(x_train, y_train)\n",
        "y_pred1 = est1.predict(x_test)\n",
        "print_metrics(y_test, y_pred1)"
      ],
      "metadata": {
        "colab": {
          "base_uri": "https://localhost:8080/",
          "height": 317
        },
        "id": "l1cWVC4I2v5j",
        "outputId": "fd50f6cc-afb5-4919-a681-1b260558c6c6"
      },
      "execution_count": 107,
      "outputs": [
        {
          "output_type": "stream",
          "name": "stdout",
          "text": [
            "Precision: 0.45372071397790925\n",
            "Recall: 0.654320987654321\n",
            "F1: 0.5276094276094276\n"
          ]
        },
        {
          "output_type": "display_data",
          "data": {
            "text/plain": [
              "<Figure size 432x288 with 2 Axes>"
            ],
            "image/png": "[encoded data removed]"
          },
          "metadata": {
            "needs_background": "light"
          }
        }
      ]
    },
    {
      "cell_type": "code",
      "source": [
        "param_range = np.arange(1, 62, 2)\n",
        "svm_parameters = [{'C': param_range}]\n",
        "svm_best = GridSearchCV(svm1, svm_parameters,\n",
        "                  cv=5, scoring=\"f1_weighted\", n_jobs=-1)\n",
        "svm_best.fit(x, y)\n",
        "print(svm_best.best_params_)"
      ],
      "metadata": {
        "colab": {
          "base_uri": "https://localhost:8080/"
        },
        "id": "GIen3xTlADlt",
        "outputId": "82301db3-cdcb-4a6c-9055-7989069a0365"
      },
      "execution_count": 112,
      "outputs": [
        {
          "output_type": "stream",
          "name": "stdout",
          "text": [
            "{'C': 61}\n"
          ]
        }
      ]
    },
    {
      "cell_type": "code",
      "source": [
        "plt.plot(param_range, svm_best.cv_results_[\"mean_test_score\"]);"
      ],
      "metadata": {
        "colab": {
          "base_uri": "https://localhost:8080/",
          "height": 265
        },
        "id": "3FNv0r8QCdhz",
        "outputId": "05aee6a8-58e3-4106-93cc-cf630b64cc63"
      },
      "execution_count": 101,
      "outputs": [
        {
          "output_type": "display_data",
          "data": {
            "text/plain": [
              "<Figure size 432x288 with 1 Axes>"
            ],
            "image/png": "[encoded data removed]"
          },
          "metadata": {
            "needs_background": "light"
          }
        }
      ]
    },
    {
      "cell_type": "code",
      "source": [
        "est2 = svm_best.best_estimator_.fit(x_train, y_train)\n",
        "y_pred2 = est2.predict(x_test)\n",
        "print_metrics(y_test, y_pred2)"
      ],
      "metadata": {
        "colab": {
          "base_uri": "https://localhost:8080/",
          "height": 317
        },
        "id": "JpzEHeNDDsTX",
        "outputId": "b048195d-b70e-41b0-f4c5-14680289daf2"
      },
      "execution_count": 113,
      "outputs": [
        {
          "output_type": "stream",
          "name": "stdout",
          "text": [
            "Precision: 0.5281543686945008\n",
            "Recall: 0.6226415094339622\n",
            "F1: 0.5640562408948413\n"
          ]
        },
        {
          "output_type": "display_data",
          "data": {
            "text/plain": [
              "<Figure size 432x288 with 2 Axes>"
            ],
            "image/png": "[encoded data removed]"
          },
          "metadata": {
            "needs_background": "light"
          }
        }
      ]
    },
    {
      "cell_type": "markdown",
      "source": [
        "Cлучайный лес"
      ],
      "metadata": {
        "id": "q25xSb94GGwV"
      }
    },
    {
      "cell_type": "code",
      "source": [
        "forest1 = RandomForestClassifier()\n",
        "est3 = forest1.fit(x_train, y_train)\n",
        "y_pred3 = est3.predict(x_test)\n",
        "print_metrics(y_test, y_pred3)\n"
      ],
      "metadata": {
        "colab": {
          "base_uri": "https://localhost:8080/",
          "height": 317
        },
        "id": "ts2HhE8CGGBT",
        "outputId": "c96d2236-2416-4ce1-e03d-c305f05a803d"
      },
      "execution_count": 122,
      "outputs": [
        {
          "output_type": "stream",
          "name": "stdout",
          "text": [
            "Precision: 0.7740183792815372\n",
            "Recall: 0.7894736842105263\n",
            "F1: 0.7790935672514621\n"
          ]
        },
        {
          "output_type": "display_data",
          "data": {
            "text/plain": [
              "<Figure size 432x288 with 2 Axes>"
            ],
            "image/png": "[encoded data removed]"
          },
          "metadata": {
            "needs_background": "light"
          }
        }
      ]
    },
    {
      "cell_type": "code",
      "source": [
        ""
      ],
      "metadata": {
        "id": "c7yGHBQKJ3Le"
      },
      "execution_count": null,
      "outputs": []
    },
    {
      "cell_type": "code",
      "source": [
        "f_params = {'n_estimators': [5, 10, 50, 100], 'max_features': [2, 3, 4], 'criterion': ['gini', 'entropy'], 'min_samples_leaf': [1, 2, 3, 4, 5]}\n",
        "forest_best = GridSearchCV(forest1, f_params, cv=10, n_jobs=-1, scoring='f1_weighted')\n",
        "forest_best.fit(x, y)\n",
        "print(forest_best.best_params_)"
      ],
      "metadata": {
        "colab": {
          "base_uri": "https://localhost:8080/"
        },
        "id": "xjGejIUMGjN0",
        "outputId": "fa2a61c4-0f35-41f8-ecda-6f258a6defc8"
      },
      "execution_count": 123,
      "outputs": [
        {
          "output_type": "stream",
          "name": "stderr",
          "text": [
            "/usr/local/lib/python3.7/dist-packages/sklearn/model_selection/_split.py:680: UserWarning: The least populated class in y has only 5 members, which is less than n_splits=10.\n",
            "  UserWarning,\n"
          ]
        },
        {
          "output_type": "stream",
          "name": "stdout",
          "text": [
            "{'criterion': 'entropy', 'max_features': 4, 'min_samples_leaf': 1, 'n_estimators': 50}\n"
          ]
        }
      ]
    },
    {
      "cell_type": "code",
      "source": [
        "est4 = forest_best.best_estimator_.fit(x_train, y_train)\n",
        "y_pred4 = est4.predict(x_test)\n",
        "print_metrics(y_test, y_pred4)"
      ],
      "metadata": {
        "colab": {
          "base_uri": "https://localhost:8080/",
          "height": 317
        },
        "id": "5-RNghuzJnCc",
        "outputId": "ab207a0a-b2a7-4436-99ea-7c0df3b4c8c7"
      },
      "execution_count": 124,
      "outputs": [
        {
          "output_type": "stream",
          "name": "stdout",
          "text": [
            "Precision: 0.7663362952836638\n",
            "Recall: 0.7719298245614035\n",
            "F1: 0.764624254434536\n"
          ]
        },
        {
          "output_type": "display_data",
          "data": {
            "text/plain": [
              "<Figure size 432x288 with 2 Axes>"
            ],
            "image/png": "[encoded data removed]"
          },
          "metadata": {
            "needs_background": "light"
          }
        }
      ]
    },
    {
      "cell_type": "markdown",
      "source": [
        "**Сравнение результатов**"
      ],
      "metadata": {
        "id": "Prqcrrr1MMWf"
      }
    },
    {
      "cell_type": "markdown",
      "source": [
        "Выведем лучшие результаты моделей\n"
      ],
      "metadata": {
        "id": "4NdDNfdpMRrv"
      }
    },
    {
      "cell_type": "code",
      "source": [
        "print(\"Метод SVM\")\n",
        "print_metrics(y_test, y_pred2)"
      ],
      "metadata": {
        "colab": {
          "base_uri": "https://localhost:8080/",
          "height": 334
        },
        "id": "st3rTU0dMQ3S",
        "outputId": "006e0dfc-e30c-4ce0-8278-7fe250763514"
      },
      "execution_count": 127,
      "outputs": [
        {
          "output_type": "stream",
          "name": "stdout",
          "text": [
            "Метод SVM\n",
            "Precision: 0.5281543686945008\n",
            "Recall: 0.6226415094339622\n",
            "F1: 0.5640562408948413\n"
          ]
        },
        {
          "output_type": "display_data",
          "data": {
            "text/plain": [
              "<Figure size 432x288 with 2 Axes>"
            ],
            "image/png": "[encoded data removed]"
          },
          "metadata": {
            "needs_background": "light"
          }
        }
      ]
    },
    {
      "cell_type": "code",
      "source": [
        "print(\"Метод Случайного леса\")\n",
        "print_metrics(y_test, y_pred3)"
      ],
      "metadata": {
        "colab": {
          "base_uri": "https://localhost:8080/",
          "height": 334
        },
        "id": "7fNYWIodMlgE",
        "outputId": "97e2af57-9b34-4ff1-979e-2477c79eebe8"
      },
      "execution_count": 130,
      "outputs": [
        {
          "output_type": "stream",
          "name": "stdout",
          "text": [
            "Метод Случайного леса\n",
            "Precision: 0.7740183792815372\n",
            "Recall: 0.7894736842105263\n",
            "F1: 0.7790935672514621\n"
          ]
        },
        {
          "output_type": "display_data",
          "data": {
            "text/plain": [
              "<Figure size 432x288 with 2 Axes>"
            ],
            "image/png": "[encoded data removed]"
          },
          "metadata": {
            "needs_background": "light"
          }
        }
      ]
    },
    {
      "cell_type": "markdown",
      "source": [
        "Для метода случайного леса модель по умолчанию оказалась лучше модели с подобранными параметрами.\n",
        "Эта же модель показала лучшие результаты по сравнению с моделями SVM.\n",
        "Вывод: небинарную классификацию в условии дисбаланса класса лучше всего реализовал метод Случайного леса."
      ],
      "metadata": {
        "id": "p7KFItQbNORz"
      }
    }
  ]
}